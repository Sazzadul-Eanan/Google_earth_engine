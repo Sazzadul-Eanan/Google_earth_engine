{
  "nbformat": 4,
  "nbformat_minor": 0,
  "metadata": {
    "colab": {
      "provenance": [],
      "authorship_tag": "ABX9TyOt9laCW/6YgR3JyKDjLa+G",
      "include_colab_link": true
    },
    "kernelspec": {
      "name": "python3",
      "display_name": "Python 3"
    },
    "language_info": {
      "name": "python"
    }
  },
  "cells": [
    {
      "cell_type": "markdown",
      "metadata": {
        "id": "view-in-github",
        "colab_type": "text"
      },
      "source": [
        "<a href=\"https://colab.research.google.com/github/Sazzadul-Eanan/Google_earth_engine/blob/main/Export_to_Drive.ipynb\" target=\"_parent\"><img src=\"https://colab.research.google.com/assets/colab-badge.svg\" alt=\"Open In Colab\"/></a>"
      ]
    },
    {
      "cell_type": "markdown",
      "source": [
        "**Exporting Landsat Images to Drive using GEE python API**"
      ],
      "metadata": {
        "id": "8m8mnFdjtq0C"
      }
    },
    {
      "cell_type": "code",
      "source": [
        "# Install the GEE python API in colab cloud environment\n",
        "\n",
        "!pip install geemap\n"
      ],
      "metadata": {
        "id": "U4z3cpZKugm7"
      },
      "execution_count": null,
      "outputs": []
    },
    {
      "cell_type": "code",
      "source": [
        "# Import libraries\n",
        "\n",
        "import ee\n",
        "import geemap\n"
      ],
      "metadata": {
        "id": "4_KXyCa3u83v"
      },
      "execution_count": 4,
      "outputs": []
    },
    {
      "cell_type": "code",
      "source": [
        "# Authenticate and initialize ee\n",
        "\n",
        "ee.Authenticate()\n",
        "ee.Initialize()\n"
      ],
      "metadata": {
        "id": "JCNNbWPBvsLf"
      },
      "execution_count": null,
      "outputs": []
    },
    {
      "cell_type": "code",
      "source": [
        "# Load Landsat Data and select the Bands\n",
        "\n",
        "Landsat8 = ee.Image('LANDSAT/LC08/C01/T1_TOA/LC08_170052_20170108') .select('B4', 'B3', 'B2')\n",
        "\n",
        "# Import the ROI shapefile into the Earth Engine\n",
        "\n",
        "shapefile_path = '/Dhaka_City.shp'              # Path to the uploaded shapefile using the 'Files' section left to the notebook\n",
        "\n",
        "ROI = geemap.shp_to_ee(shapefile_path)\n"
      ],
      "metadata": {
        "id": "n4evX1IJwqZG"
      },
      "execution_count": null,
      "outputs": []
    },
    {
      "cell_type": "code",
      "source": [
        "# Export to Drive\n",
        "\n",
        "Task = ee.batch.Export.image.toDrive(**{\n",
        "    'image' : Landsat8,\n",
        "    'description' : 'ImageToDriveExample',       # Name of the Image to be uploaded\n",
        "    'folder'  :  'ExampleFolder',                # Newly created folder into the drive where the image will be saved\n",
        "    'scale'   :  30,\n",
        "    'region'  : ROI\n",
        "})\n",
        "\n",
        "Task.start()\n"
      ],
      "metadata": {
        "id": "RCal60wXytx7"
      },
      "execution_count": 12,
      "outputs": []
    }
  ]
}